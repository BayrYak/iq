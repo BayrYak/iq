{
 "cells": [
  {
   "cell_type": "markdown",
   "metadata": {},
   "source": [
    "## IQ Seminar - Oct 10, 2015\n",
    " \n",
    "Master of Financial Engineering Program, Baruch College   \n",
    "  \n",
    "<img src=\"http://mfe.baruch.cuny.edu/wp-content/uploads/2014/09/BCCUNYstacked_BLK.jpg\" align = \"left\" width=160>  "
   ]
  },
  {
   "cell_type": "markdown",
   "metadata": {},
   "source": [
    "* Weiyi Chen, weiyi.chen@baruchmail.cuny.edu"
   ]
  },
  {
   "cell_type": "markdown",
   "metadata": {},
   "source": [
    "# Data Structure"
   ]
  },
  {
   "cell_type": "markdown",
   "metadata": {},
   "source": [
    "## 1. Array\n",
    "\n",
    "#### 1.1 Definition\n",
    "\n",
    "An array is a collection that forms a data structure where objects are stored linearly, one after another in memory.\n",
    "\n",
    "#### 1.2 Example\n",
    "\n",
    "A notebook with pages numbered 1 through 12. Each page is an element of the array 'notebook'. You would retrieve information from a page by referring to its number or subscript, i.e., notebook(4) would refer to page 4 of the array notebook.\n",
    "\n",
    "<img src='https://upload.wikimedia.org/wikibooks/en/8/85/SimpleArray.png'>\n",
    "\n",
    "#### 1.3 MultiDimentional\n",
    "\n",
    "Arrays can also be multidimensional - instead of accessing an element of a one-dimensional list, elements are accessed by two or more indices, as from a matrix or tensor.\n",
    "\n",
    "<img src='https://upload.wikimedia.org/wikibooks/en/1/16/MultidimensionalArray.png'>\n",
    "\n",
    "#### 1.4 Operations\n",
    "\n",
    "- `make-array(integer n): Array`\n",
    "\n",
    "- `get-value-at(Array a, integer index): Element`\n",
    "\n",
    "- `set-value-at(Array a, integer index, Element new-value)`\n",
    "\n",
    "#### 1.5 Time Complexity\n",
    "\n",
    "- Arrays guarantee constant time read and write access, O(1)\n",
    "- however many lookup operations (find_min, find_max, find_index) of an instance of an element are linear time, O(n)\n",
    "\n",
    "#### 1.6 Bound Check\n",
    "\n",
    "There are three options open:\n",
    "\n",
    "1. Most languages (Pascal, Java, C#) will check the bounds and raise some error condition when an element is accessed which does not exist.\n",
    "2. A few languages (C, C++) will not check the bounds and return or set some arbitrary value when an element outside the valid range is accessed.\n",
    "3. Scripting languages often automatically expand the array when data is written to an index which was not valid until then."
   ]
  },
  {
   "cell_type": "markdown",
   "metadata": {},
   "source": [
    "### 1.7 Practice"
   ]
  },
  {
   "cell_type": "markdown",
   "metadata": {},
   "source": [
    "#### 1.7.1 Move Zeroes\n",
    "\n",
    "Given an array nums, write a function to move all 0's to the end of it while maintaining the relative order of the non-zero elements.\n",
    "\n",
    "For example, given nums = [0, 1, 0, 3, 12], after calling your function, nums should be [1, 3, 12, 0, 0].\n",
    "\n",
    "https://leetcode.com/problems/move-zeroes/"
   ]
  },
  {
   "cell_type": "code",
   "execution_count": 10,
   "metadata": {
    "collapsed": false
   },
   "outputs": [],
   "source": [
    "class Solution(object):\n",
    "    def moveZeroes(self, nums):\n",
    "        \"\"\"\n",
    "        :type nums: List[int]\n",
    "        :rtype: void Do not return anything, modify nums in-place instead.\n",
    "        \"\"\"\n",
    "        i = 0\n",
    "        for num in nums:\n",
    "            if num != 0:\n",
    "                nums[i] = num\n",
    "                i += 1\n",
    "        nums[i:] = [0] * (len(nums)-i)"
   ]
  },
  {
   "cell_type": "markdown",
   "metadata": {},
   "source": [
    "#### 1.7.2 Best Time to Buy and Sell Stock II\n",
    "\n",
    "Say you have an array for which the ith element is the price of a given stock on day i.\n",
    "\n",
    "Design an algorithm to find the maximum profit. You may complete as many transactions as you like (ie, buy one and sell one share of the stock multiple times). However, you may not engage in multiple transactions at the same time (ie, you must sell the stock before you buy again).\n",
    "\n",
    "https://leetcode.com/problems/best-time-to-buy-and-sell-stock-ii/"
   ]
  },
  {
   "cell_type": "code",
   "execution_count": 11,
   "metadata": {
    "collapsed": true
   },
   "outputs": [],
   "source": [
    "class Solution:\n",
    "    # @param prices, a list of integer\n",
    "    # @return an integer\n",
    "    def maxProfit(self, prices):\n",
    "        profit = 0\n",
    "        for i in range(0,len(prices)-1,1):\n",
    "            if prices[i+1] > prices[i]:\n",
    "                profit += prices[i+1]-prices[i]\n",
    "        return profit"
   ]
  },
  {
   "cell_type": "markdown",
   "metadata": {},
   "source": [
    "#### 1.7.3 Contains Duplicate"
   ]
  },
  {
   "cell_type": "markdown",
   "metadata": {},
   "source": [
    "Given an array of integers, find if the array contains any duplicates. Your function should return true if any value appears at least twice in the array, and it should return false if every element is distinct.\n",
    "\n",
    "https://leetcode.com/problems/contains-duplicate/"
   ]
  },
  {
   "cell_type": "code",
   "execution_count": 12,
   "metadata": {
    "collapsed": true
   },
   "outputs": [],
   "source": [
    "class Solution(object):\n",
    "    def containsDuplicate(self, nums):\n",
    "        \"\"\"\n",
    "        :type nums: List[int]\n",
    "        :rtype: bool\n",
    "        \"\"\"\n",
    "        nums.sort()\n",
    "        for i in range(len(nums)-1):\n",
    "            if nums[i] == nums[i+1]:\n",
    "                return True\n",
    "        return False"
   ]
  },
  {
   "cell_type": "markdown",
   "metadata": {},
   "source": [
    "#### 1.7.4 Product of Array Except Self"
   ]
  },
  {
   "cell_type": "markdown",
   "metadata": {},
   "source": [
    "Given an array of n integers where n > 1, nums, return an array output such that output[i] is equal to the product of all the elements of nums except nums[i].\n",
    "\n",
    "Solve it without division and in O(n).\n",
    "\n",
    "For example, given [1,2,3,4], return [24,12,8,6]."
   ]
  },
  {
   "cell_type": "code",
   "execution_count": 13,
   "metadata": {
    "collapsed": true
   },
   "outputs": [],
   "source": [
    "class Solution(object):\n",
    "    \n",
    "    def cumprod(self, nums):\n",
    "        results = []\n",
    "        tmp = 1\n",
    "        for num in nums:\n",
    "            tmp *= num\n",
    "            results.append(tmp)\n",
    "        return results\n",
    "    \n",
    "    def productExceptSelf(self, nums):\n",
    "        \"\"\"\n",
    "        :type nums: List[int]\n",
    "        :rtype: List[int]\n",
    "        \"\"\"\n",
    "        ls_left = [1] + self.cumprod(nums)[:-1]\n",
    "        ls_right = self.cumprod(nums[::-1])[::-1][1:] + [1]\n",
    "        return [i*j for i, j in zip(ls_left, ls_right)]"
   ]
  },
  {
   "cell_type": "markdown",
   "metadata": {},
   "source": [
    "#### 1.7.5 Majority Element (Credit Suisse)"
   ]
  },
  {
   "cell_type": "markdown",
   "metadata": {},
   "source": [
    "Given an array of size n, find the majority element. The majority element is the element that appears more than ⌊ n/2 ⌋ times.\n",
    "\n",
    "You may assume that the array is non-empty and the majority element always exist in the array."
   ]
  },
  {
   "cell_type": "code",
   "execution_count": 14,
   "metadata": {
    "collapsed": true
   },
   "outputs": [],
   "source": [
    "class Solution:\n",
    "    # @param num, a list of integers\n",
    "    # @return an integer\n",
    "    def majorityElement(self, num):\n",
    "        candidate, count = None, 0\n",
    "        for e in num:\n",
    "            if count == 0:\n",
    "                candidate, count = e, 1\n",
    "            elif e == candidate:\n",
    "                count += 1\n",
    "            else:\n",
    "                count -= 1\n",
    "        return candidate"
   ]
  },
  {
   "cell_type": "markdown",
   "metadata": {},
   "source": [
    "## 2. Linked Lists"
   ]
  }
 ],
 "metadata": {
  "kernelspec": {
   "display_name": "Python 3",
   "language": "python",
   "name": "python3"
  },
  "language_info": {
   "codemirror_mode": {
    "name": "ipython",
    "version": 3
   },
   "file_extension": ".py",
   "mimetype": "text/x-python",
   "name": "python",
   "nbconvert_exporter": "python",
   "pygments_lexer": "ipython3",
   "version": "3.4.3"
  }
 },
 "nbformat": 4,
 "nbformat_minor": 0
}
